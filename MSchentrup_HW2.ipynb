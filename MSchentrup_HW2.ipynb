{
  "nbformat": 4,
  "nbformat_minor": 0,
  "metadata": {
    "colab": {
      "provenance": [],
      "authorship_tag": "ABX9TyPDvFJvfxMz0xE7LuCG2t1n",
      "include_colab_link": true
    },
    "kernelspec": {
      "name": "python3",
      "display_name": "Python 3"
    },
    "language_info": {
      "name": "python"
    }
  },
  "cells": [
    {
      "cell_type": "markdown",
      "metadata": {
        "id": "view-in-github",
        "colab_type": "text"
      },
      "source": [
        "<a href=\"https://colab.research.google.com/github/mschentrup/BME3053C-Fall-2025/blob/main/MSchentrup_HW2.ipynb\" target=\"_parent\"><img src=\"https://colab.research.google.com/assets/colab-badge.svg\" alt=\"Open In Colab\"/></a>"
      ]
    },
    {
      "cell_type": "code",
      "execution_count": 3,
      "metadata": {
        "colab": {
          "base_uri": "https://localhost:8080/"
        },
        "id": "piTWoQjVYGeG",
        "outputId": "b3b32367-0316-4b4c-bb30-a9f8eeaf6e03"
      },
      "outputs": [
        {
          "output_type": "stream",
          "name": "stdout",
          "text": [
            "[0.0, 0.32, 0.58, 0.06, 0.79, 1.0, 0.13, 0.64]\n"
          ]
        }
      ],
      "source": [
        "bp_readings = [120,137,151,123,162,173,127,154]\n",
        "\n",
        "def normalize_values(list): #Define function and feed in input list\n",
        "    min_value = min(list) #Get minimum value\n",
        "    max_value = max(list) #Get maximum value\n",
        "    normalized_list = [] #Initialize output list\n",
        "    for value in list: #Iterate for each element\n",
        "        normalized_value = (value - min_value) / (max_value - min_value) #Use given equation to get corresponding value between 0-1\n",
        "        normalized_value = round(normalized_value, 2) #Round to 2 decimal places to make output readable\n",
        "        normalized_list.append(normalized_value) #Append to output list\n",
        "    return normalized_list #Return output list\n",
        "\n",
        "print(normalize_values(bp_readings))"
      ]
    }
  ]
}